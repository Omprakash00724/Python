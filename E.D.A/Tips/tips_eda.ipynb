{
 "cells": [
  {
   "cell_type": "code",
   "execution_count": 2,
   "id": "c089073a",
   "metadata": {},
   "outputs": [],
   "source": [
    "import numpy as np"
   ]
  },
  {
   "cell_type": "code",
   "execution_count": 3,
   "id": "b418dfd7",
   "metadata": {},
   "outputs": [],
   "source": [
    "import pandas as pd"
   ]
  },
  {
   "cell_type": "code",
   "execution_count": 18,
   "id": "5989535c",
   "metadata": {},
   "outputs": [],
   "source": [
    "import seaborn as sns\n",
    "import matplotlib.pyplot as plt"
   ]
  },
  {
   "cell_type": "code",
   "execution_count": 19,
   "id": "3798c810",
   "metadata": {},
   "outputs": [],
   "source": [
    "tip=sns.load_dataset(\"tips\")"
   ]
  },
  {
   "cell_type": "code",
   "execution_count": 20,
   "id": "f56ba073",
   "metadata": {},
   "outputs": [
    {
     "name": "stdout",
     "output_type": "stream",
     "text": [
      "<class 'pandas.core.frame.DataFrame'>\n"
     ]
    }
   ],
   "source": [
    "print(type(tip))"
   ]
  },
  {
   "cell_type": "code",
   "execution_count": 21,
   "id": "f5e07bb0",
   "metadata": {},
   "outputs": [
    {
     "name": "stdout",
     "output_type": "stream",
     "text": [
      "(244, 7)\n"
     ]
    }
   ],
   "source": [
    "print(tip.shape)"
   ]
  },
  {
   "cell_type": "code",
   "execution_count": 22,
   "id": "6295977f",
   "metadata": {},
   "outputs": [
    {
     "name": "stdout",
     "output_type": "stream",
     "text": [
      "<class 'pandas.core.frame.DataFrame'>\n",
      "RangeIndex: 244 entries, 0 to 243\n",
      "Data columns (total 7 columns):\n",
      " #   Column      Non-Null Count  Dtype   \n",
      "---  ------      --------------  -----   \n",
      " 0   total_bill  244 non-null    float64 \n",
      " 1   tip         244 non-null    float64 \n",
      " 2   sex         244 non-null    category\n",
      " 3   smoker      244 non-null    category\n",
      " 4   day         244 non-null    category\n",
      " 5   time        244 non-null    category\n",
      " 6   size        244 non-null    int64   \n",
      "dtypes: category(4), float64(2), int64(1)\n",
      "memory usage: 7.4 KB\n"
     ]
    }
   ],
   "source": [
    "tip.info()"
   ]
  },
  {
   "cell_type": "code",
   "execution_count": 23,
   "id": "98b2d47e",
   "metadata": {},
   "outputs": [
    {
     "data": {
      "text/html": [
       "<div>\n",
       "<style scoped>\n",
       "    .dataframe tbody tr th:only-of-type {\n",
       "        vertical-align: middle;\n",
       "    }\n",
       "\n",
       "    .dataframe tbody tr th {\n",
       "        vertical-align: top;\n",
       "    }\n",
       "\n",
       "    .dataframe thead th {\n",
       "        text-align: right;\n",
       "    }\n",
       "</style>\n",
       "<table border=\"1\" class=\"dataframe\">\n",
       "  <thead>\n",
       "    <tr style=\"text-align: right;\">\n",
       "      <th></th>\n",
       "      <th>total_bill</th>\n",
       "      <th>tip</th>\n",
       "      <th>sex</th>\n",
       "      <th>smoker</th>\n",
       "      <th>day</th>\n",
       "      <th>time</th>\n",
       "      <th>size</th>\n",
       "    </tr>\n",
       "  </thead>\n",
       "  <tbody>\n",
       "    <tr>\n",
       "      <th>0</th>\n",
       "      <td>16.99</td>\n",
       "      <td>1.01</td>\n",
       "      <td>Female</td>\n",
       "      <td>No</td>\n",
       "      <td>Sun</td>\n",
       "      <td>Dinner</td>\n",
       "      <td>2</td>\n",
       "    </tr>\n",
       "    <tr>\n",
       "      <th>1</th>\n",
       "      <td>10.34</td>\n",
       "      <td>1.66</td>\n",
       "      <td>Male</td>\n",
       "      <td>No</td>\n",
       "      <td>Sun</td>\n",
       "      <td>Dinner</td>\n",
       "      <td>3</td>\n",
       "    </tr>\n",
       "    <tr>\n",
       "      <th>2</th>\n",
       "      <td>21.01</td>\n",
       "      <td>3.50</td>\n",
       "      <td>Male</td>\n",
       "      <td>No</td>\n",
       "      <td>Sun</td>\n",
       "      <td>Dinner</td>\n",
       "      <td>3</td>\n",
       "    </tr>\n",
       "    <tr>\n",
       "      <th>3</th>\n",
       "      <td>23.68</td>\n",
       "      <td>3.31</td>\n",
       "      <td>Male</td>\n",
       "      <td>No</td>\n",
       "      <td>Sun</td>\n",
       "      <td>Dinner</td>\n",
       "      <td>2</td>\n",
       "    </tr>\n",
       "    <tr>\n",
       "      <th>4</th>\n",
       "      <td>24.59</td>\n",
       "      <td>3.61</td>\n",
       "      <td>Female</td>\n",
       "      <td>No</td>\n",
       "      <td>Sun</td>\n",
       "      <td>Dinner</td>\n",
       "      <td>4</td>\n",
       "    </tr>\n",
       "  </tbody>\n",
       "</table>\n",
       "</div>"
      ],
      "text/plain": [
       "   total_bill   tip     sex smoker  day    time  size\n",
       "0       16.99  1.01  Female     No  Sun  Dinner     2\n",
       "1       10.34  1.66    Male     No  Sun  Dinner     3\n",
       "2       21.01  3.50    Male     No  Sun  Dinner     3\n",
       "3       23.68  3.31    Male     No  Sun  Dinner     2\n",
       "4       24.59  3.61  Female     No  Sun  Dinner     4"
      ]
     },
     "execution_count": 23,
     "metadata": {},
     "output_type": "execute_result"
    }
   ],
   "source": [
    "tip.head()"
   ]
  },
  {
   "cell_type": "code",
   "execution_count": 24,
   "id": "fce5357c",
   "metadata": {},
   "outputs": [
    {
     "data": {
      "text/html": [
       "<div>\n",
       "<style scoped>\n",
       "    .dataframe tbody tr th:only-of-type {\n",
       "        vertical-align: middle;\n",
       "    }\n",
       "\n",
       "    .dataframe tbody tr th {\n",
       "        vertical-align: top;\n",
       "    }\n",
       "\n",
       "    .dataframe thead th {\n",
       "        text-align: right;\n",
       "    }\n",
       "</style>\n",
       "<table border=\"1\" class=\"dataframe\">\n",
       "  <thead>\n",
       "    <tr style=\"text-align: right;\">\n",
       "      <th></th>\n",
       "      <th>total_bill</th>\n",
       "      <th>tip</th>\n",
       "      <th>sex</th>\n",
       "      <th>smoker</th>\n",
       "      <th>day</th>\n",
       "      <th>time</th>\n",
       "      <th>size</th>\n",
       "    </tr>\n",
       "  </thead>\n",
       "  <tbody>\n",
       "    <tr>\n",
       "      <th>239</th>\n",
       "      <td>29.03</td>\n",
       "      <td>5.92</td>\n",
       "      <td>Male</td>\n",
       "      <td>No</td>\n",
       "      <td>Sat</td>\n",
       "      <td>Dinner</td>\n",
       "      <td>3</td>\n",
       "    </tr>\n",
       "    <tr>\n",
       "      <th>240</th>\n",
       "      <td>27.18</td>\n",
       "      <td>2.00</td>\n",
       "      <td>Female</td>\n",
       "      <td>Yes</td>\n",
       "      <td>Sat</td>\n",
       "      <td>Dinner</td>\n",
       "      <td>2</td>\n",
       "    </tr>\n",
       "    <tr>\n",
       "      <th>241</th>\n",
       "      <td>22.67</td>\n",
       "      <td>2.00</td>\n",
       "      <td>Male</td>\n",
       "      <td>Yes</td>\n",
       "      <td>Sat</td>\n",
       "      <td>Dinner</td>\n",
       "      <td>2</td>\n",
       "    </tr>\n",
       "    <tr>\n",
       "      <th>242</th>\n",
       "      <td>17.82</td>\n",
       "      <td>1.75</td>\n",
       "      <td>Male</td>\n",
       "      <td>No</td>\n",
       "      <td>Sat</td>\n",
       "      <td>Dinner</td>\n",
       "      <td>2</td>\n",
       "    </tr>\n",
       "    <tr>\n",
       "      <th>243</th>\n",
       "      <td>18.78</td>\n",
       "      <td>3.00</td>\n",
       "      <td>Female</td>\n",
       "      <td>No</td>\n",
       "      <td>Thur</td>\n",
       "      <td>Dinner</td>\n",
       "      <td>2</td>\n",
       "    </tr>\n",
       "  </tbody>\n",
       "</table>\n",
       "</div>"
      ],
      "text/plain": [
       "     total_bill   tip     sex smoker   day    time  size\n",
       "239       29.03  5.92    Male     No   Sat  Dinner     3\n",
       "240       27.18  2.00  Female    Yes   Sat  Dinner     2\n",
       "241       22.67  2.00    Male    Yes   Sat  Dinner     2\n",
       "242       17.82  1.75    Male     No   Sat  Dinner     2\n",
       "243       18.78  3.00  Female     No  Thur  Dinner     2"
      ]
     },
     "execution_count": 24,
     "metadata": {},
     "output_type": "execute_result"
    }
   ],
   "source": [
    "tip.tail()"
   ]
  },
  {
   "cell_type": "markdown",
   "id": "591eecc0",
   "metadata": {},
   "source": [
    "\n",
    "    Analysis of tips given by different genders\n",
    "    maximum footfall on which day\n",
    " \n"
   ]
  },
  {
   "cell_type": "code",
   "execution_count": 34,
   "id": "eecf716d",
   "metadata": {
    "scrolled": true
   },
   "outputs": [],
   "source": [
    "gender_tips = tip.groupby(\"sex\")[\"tip\"].mean()\n"
   ]
  },
  {
   "cell_type": "code",
   "execution_count": 35,
   "id": "bb6d8d97",
   "metadata": {},
   "outputs": [
    {
     "data": {
      "image/png": "[encoded data removed]",
      "text/plain": [
       "<Figure size 576x432 with 1 Axes>"
      ]
     },
     "metadata": {
      "needs_background": "light"
     },
     "output_type": "display_data"
    }
   ],
   "source": [
    "plt.figure(figsize=(8, 6))\n",
    "sns.barplot(x=gender_tips.index, y=gender_tips.values)\n",
    "plt.title(\"Average Tips by Gender\")\n",
    "plt.xlabel(\"Gender\")\n",
    "plt.ylabel(\"Average Tip Amount\")\n",
    "plt.show()"
   ]
  },
  {
   "cell_type": "code",
   "execution_count": 37,
   "id": "90c6b089",
   "metadata": {},
   "outputs": [
    {
     "name": "stdout",
     "output_type": "stream",
     "text": [
      "Day with the maximum footfall: Sat\n"
     ]
    }
   ],
   "source": [
    "# Counting footfall by day\n",
    "footfall_by_day = tip['day'].value_counts()\n",
    "\n",
    "# Finding the day with maximum footfall\n",
    "max_footfall_day = footfall_by_day.idxmax()\n",
    "\n",
    "print(\"Day with the maximum footfall:\", max_footfall_day)\n"
   ]
  },
  {
   "cell_type": "markdown",
   "id": "21f8d403",
   "metadata": {},
   "source": [
    "Do people that have higher bills pay more tips."
   ]
  },
  {
   "cell_type": "code",
   "execution_count": 45,
   "id": "68a1ba9d",
   "metadata": {},
   "outputs": [
    {
     "name": "stdout",
     "output_type": "stream",
     "text": [
      "Empty DataFrame\n",
      "Columns: [total_bill, tip, sex, smoker, day, time, size]\n",
      "Index: []\n"
     ]
    }
   ],
   "source": [
    "filtered_dataset = tip[tip['tip'] > tip['total_bill']]\n",
    "print(filtered_dataset)"
   ]
  },
  {
   "cell_type": "markdown",
   "id": "7a62f9fe",
   "metadata": {},
   "source": [
    "frequency of people visiting on weekend"
   ]
  },
  {
   "cell_type": "code",
   "execution_count": 47,
   "id": "86671297",
   "metadata": {},
   "outputs": [
    {
     "data": {
      "image/png": "[encoded data removed]",
      "text/plain": [
       "<Figure size 576x432 with 1 Axes>"
      ]
     },
     "metadata": {
      "needs_background": "light"
     },
     "output_type": "display_data"
    }
   ],
   "source": [
    "weekend_visits = tip[tip['day'].isin(['Sat', 'Sun'])]\n",
    "\n",
    "# Calculate the frequency of visits on the weekend\n",
    "weekend_frequency = weekend_visits.shape[0]\n",
    "\n",
    "# Create a bar plot to visualize the frequency of visits on the weekend\n",
    "plt.figure(figsize=(8, 6))\n",
    "sns.countplot(x='day', data=weekend_visits)\n",
    "plt.title(\"Frequency of Visits on the Weekend\")\n",
    "plt.xlabel(\"Day\")\n",
    "plt.ylabel(\"Frequency\")\n",
    "plt.show()\n"
   ]
  },
  {
   "cell_type": "markdown",
   "id": "3139644b",
   "metadata": {},
   "source": [
    "Analysis of total bill/money spend and tips by various family sizes"
   ]
  },
  {
   "cell_type": "code",
   "execution_count": 54,
   "id": "d11948f3",
   "metadata": {
    "scrolled": true
   },
   "outputs": [
    {
     "name": "stdout",
     "output_type": "stream",
     "text": [
      "     size  total_bill   tip  total_money\n",
      "0       2       16.99  1.01        18.00\n",
      "1       3       10.34  1.66        12.00\n",
      "2       3       21.01  3.50        24.51\n",
      "3       2       23.68  3.31        26.99\n",
      "4       4       24.59  3.61        28.20\n",
      "..    ...         ...   ...          ...\n",
      "239     3       29.03  5.92        34.95\n",
      "240     2       27.18  2.00        29.18\n",
      "241     2       22.67  2.00        24.67\n",
      "242     2       17.82  1.75        19.57\n",
      "243     2       18.78  3.00        21.78\n",
      "\n",
      "[244 rows x 4 columns]\n"
     ]
    }
   ],
   "source": [
    "tip['total_money'] = tip['total_bill'] + tip['tip']\n",
    "\n",
    "# Select the columns for analysis\n",
    "columns = ['size', 'total_bill', 'tip', 'total_money']\n",
    "\n",
    "# Create a new DataFrame with the selected columns\n",
    "analysis_table = tip[columns]\n",
    "\n",
    "# Print the analysis table\n",
    "print(analysis_table)\n"
   ]
  },
  {
   "cell_type": "code",
   "execution_count": 52,
   "id": "23e3c583",
   "metadata": {
    "scrolled": false
   },
   "outputs": [
    {
     "data": {
      "image/png": "[encoded data removed]",
      "text/plain": [
       "<Figure size 576x432 with 1 Axes>"
      ]
     },
     "metadata": {
      "needs_background": "light"
     },
     "output_type": "display_data"
    }
   ],
   "source": [
    "tip['total_money'] = tip['total_bill'] + tip['tip']\n",
    "plt.figure(figsize=(8, 6))\n",
    "sns.scatterplot(x=\"size\", y=\"total_money\", data=tip)\n",
    "plt.title(\"Family Size vs total Amount\")\n",
    "plt.xlabel(\"Family Size\")\n",
    "plt.ylabel(\"total_money\")\n",
    "plt.show()"
   ]
  },
  {
   "cell_type": "code",
   "execution_count": 81,
   "id": "4e4adf18",
   "metadata": {
    "scrolled": true
   },
   "outputs": [
    {
     "data": {
      "image/png": "[encoded data removed]",
      "text/plain": [
       "<Figure size 360x288 with 1 Axes>"
      ]
     },
     "metadata": {
      "needs_background": "light"
     },
     "output_type": "display_data"
    }
   ],
   "source": [
    "plt.figure(figsize=(5, 4))\n",
    "sns.scatterplot(x=\"total_bill\", y=\"tip\", hue=\"size\", data=tip)\n",
    "plt.title(\"Total Bill Amount vs Tip Amount by Family Size\")\n",
    "plt.xlabel(\"Total Bill Amount\")\n",
    "plt.ylabel(\"Tip Amount\")\n",
    "plt.show()"
   ]
  },
  {
   "cell_type": "markdown",
   "id": "8c558cb7",
   "metadata": {},
   "source": [
    "frequency of people coming for dinner or lunch"
   ]
  },
  {
   "cell_type": "code",
   "execution_count": 57,
   "id": "16491069",
   "metadata": {},
   "outputs": [
    {
     "name": "stdout",
     "output_type": "stream",
     "text": [
      "Frequency of people coming for dinner: 176\n",
      "Frequency of people coming for lunch: 68\n"
     ]
    }
   ],
   "source": [
    "dinner_frequency = tip[tip['time'] == 'Dinner'].shape[0]\n",
    "lunch_frequency = tip[tip['time'] == 'Lunch'].shape[0]\n",
    "\n",
    "# Print the frequencies\n",
    "print(\"Frequency of people coming for dinner:\", dinner_frequency)\n",
    "print(\"Frequency of people coming for lunch:\", lunch_frequency)"
   ]
  },
  {
   "cell_type": "markdown",
   "id": "12217f26",
   "metadata": {},
   "source": [
    "busiest time"
   ]
  },
  {
   "cell_type": "code",
   "execution_count": 58,
   "id": "e4369d57",
   "metadata": {},
   "outputs": [
    {
     "name": "stdout",
     "output_type": "stream",
     "text": [
      "dinner time is busiest\n"
     ]
    }
   ],
   "source": [
    "if dinner_frequency>lunch_frequency:\n",
    "    print(\"dinner time is busiest\")\n",
    "else:\n",
    "    print(\"lunch time is busiest\")"
   ]
  },
  {
   "cell_type": "markdown",
   "id": "0016b471",
   "metadata": {},
   "source": [
    "ananlysis on busiest time with majority(smoker or non smoker)"
   ]
  },
  {
   "cell_type": "code",
   "execution_count": 59,
   "id": "e6f30ccb",
   "metadata": {},
   "outputs": [
    {
     "name": "stdout",
     "output_type": "stream",
     "text": [
      "Busiest time with majority of Lunch\n"
     ]
    }
   ],
   "source": [
    "# Group the data by time and smoker status and calculate the count\n",
    "smoker_count = tip.groupby(['time', 'smoker']).size().unstack()\n",
    "\n",
    "# Determine the busiest time based on majority of smokers or non-smokers\n",
    "busiest_time = 'Dinner' if smoker_count['Yes']['Dinner'] > smoker_count['No']['Dinner'] else 'Lunch'\n",
    "\n",
    "# Print the analysis result\n",
    "print(\"Busiest time with majority of\", busiest_time)\n"
   ]
  },
  {
   "cell_type": "markdown",
   "id": "5d476cb6",
   "metadata": {},
   "source": [
    "Which day of the week is the busiest"
   ]
  },
  {
   "cell_type": "code",
   "execution_count": 60,
   "id": "ee144f99",
   "metadata": {},
   "outputs": [
    {
     "name": "stdout",
     "output_type": "stream",
     "text": [
      "Busiest day of the week: Sat\n"
     ]
    }
   ],
   "source": [
    "tip['day'] = pd.Categorical(tip['day'], categories=['Mon','Tue','Wed','Thur', 'Fri', 'Sat', 'Sun'], ordered=True)\n",
    "\n",
    "# Calculate the frequency of visits for each day\n",
    "day_frequency = tip['day'].value_counts()\n",
    "\n",
    "# Determine the busiest day\n",
    "busiest_day = day_frequency.idxmax()\n",
    "\n",
    "# Print the result\n",
    "print(\"Busiest day of the week:\", busiest_day)\n"
   ]
  },
  {
   "cell_type": "markdown",
   "id": "f044aaab",
   "metadata": {},
   "source": [
    "bill to tip ratio"
   ]
  },
  {
   "cell_type": "code",
   "execution_count": 62,
   "id": "b57aba4e",
   "metadata": {},
   "outputs": [
    {
     "name": "stdout",
     "output_type": "stream",
     "text": [
      "     total_bill   tip  bill_to_tip_ratio\n",
      "0         16.99  1.01           0.059447\n",
      "1         10.34  1.66           0.160542\n",
      "2         21.01  3.50           0.166587\n",
      "3         23.68  3.31           0.139780\n",
      "4         24.59  3.61           0.146808\n",
      "..          ...   ...                ...\n",
      "239       29.03  5.92           0.203927\n",
      "240       27.18  2.00           0.073584\n",
      "241       22.67  2.00           0.088222\n",
      "242       17.82  1.75           0.098204\n",
      "243       18.78  3.00           0.159744\n",
      "\n",
      "[244 rows x 3 columns]\n",
      "Average tip to bill ratio: 0.16080258172250478\n"
     ]
    }
   ],
   "source": [
    "tip['bill_to_tip_ratio'] = tip['tip'] / tip['total_bill']\n",
    "\n",
    "# Print the dataset with the added ratio column\n",
    "print(tip[['total_bill', 'tip', 'bill_to_tip_ratio']])\n",
    "\n",
    "average_tip_to_bill_ratio = tip['bill_to_tip_ratio'].mean()\n",
    "print(\"Average tip to bill ratio:\", average_tip_to_bill_ratio)"
   ]
  },
  {
   "cell_type": "code",
   "execution_count": 64,
   "id": "c80eab2d",
   "metadata": {},
   "outputs": [
    {
     "name": "stdout",
     "output_type": "stream",
     "text": [
      "Busiest time for each day:\n",
      "Sun : Dinner\n",
      "Sat : Dinner\n",
      "Thur : Lunch\n",
      "Fri : Dinner\n"
     ]
    }
   ],
   "source": [
    "unique_days = tip['day'].unique()\n",
    "\n",
    "# Iterate over each day and determine the busiest time\n",
    "busiest_times = {}\n",
    "for day in unique_days:\n",
    "    day_data = tip[tip['day'] == day]\n",
    "    busy_time = day_data['time'].value_counts().idxmax()\n",
    "    busiest_times[day] = busy_time\n",
    "\n",
    "print(\"Busiest time for each day:\")\n",
    "for day, time in busiest_times.items():\n",
    "    print(day, \":\", time)\n"
   ]
  },
  {
   "cell_type": "code",
   "execution_count": 65,
   "id": "fc3b729e",
   "metadata": {},
   "outputs": [
    {
     "name": "stdout",
     "output_type": "stream",
     "text": [
      "['Sun', 'Sat', 'Thur', 'Fri']\n",
      "Categories (7, object): ['Mon' < 'Tue' < 'Wed' < 'Thur' < 'Fri' < 'Sat' < 'Sun']\n"
     ]
    }
   ],
   "source": [
    "print(unique_days)"
   ]
  },
  {
   "cell_type": "markdown",
   "id": "92459c41",
   "metadata": {},
   "source": [
    "analysis of the average no of customers"
   ]
  },
  {
   "cell_type": "code",
   "execution_count": 66,
   "id": "f0f5047b",
   "metadata": {},
   "outputs": [
    {
     "name": "stdout",
     "output_type": "stream",
     "text": [
      "Average number of customers: 2.569672131147541\n"
     ]
    }
   ],
   "source": [
    "average_customers = tip['size'].mean()\n",
    "print(\"Average number of customers:\", average_customers)"
   ]
  },
  {
   "cell_type": "markdown",
   "id": "faeec573",
   "metadata": {},
   "source": [
    "which sex has spent more total_bills on the later part of the week?"
   ]
  },
  {
   "cell_type": "code",
   "execution_count": 69,
   "id": "4457499d",
   "metadata": {},
   "outputs": [
    {
     "name": "stdout",
     "output_type": "stream",
     "text": [
      "Sex with higher total bills on the later part of the week: Male\n"
     ]
    }
   ],
   "source": [
    "later_week_data = tip[tip['day'].isin(['Thur', 'Fri', 'Sat'])]\n",
    "total_bills_by_sex = later_week_data.groupby('sex')['total_bill'].sum()\n",
    "sex_with_higher_bills = total_bills_by_sex.idxmax()\n",
    "print(\"Sex with higher total bills on the later part of the week:\", sex_with_higher_bills)"
   ]
  },
  {
   "cell_type": "markdown",
   "id": "e29b3e38",
   "metadata": {},
   "source": [
    "Analysis of the number of people in a group to arrange the tables accordingly"
   ]
  },
  {
   "cell_type": "code",
   "execution_count": 70,
   "id": "af33849f",
   "metadata": {},
   "outputs": [
    {
     "data": {
      "image/png": "[encoded data removed]",
      "text/plain": [
       "<Figure size 576x432 with 1 Axes>"
      ]
     },
     "metadata": {
      "needs_background": "light"
     },
     "output_type": "display_data"
    }
   ],
   "source": [
    "group_sizes = tip['size'].value_counts().sort_index()\n",
    "plt.figure(figsize=(8, 6))\n",
    "sns.barplot(x=group_sizes.index, y=group_sizes.values, color='blue')\n",
    "plt.xlabel(\"Group Size\")\n",
    "plt.ylabel(\"Frequency\")\n",
    "plt.title(\"Number of People in a Group\")\n",
    "plt.show()\n"
   ]
  },
  {
   "cell_type": "markdown",
   "id": "a71d33df",
   "metadata": {},
   "source": [
    "tip with respect to family size"
   ]
  },
  {
   "cell_type": "code",
   "execution_count": 76,
   "id": "d11e6ab9",
   "metadata": {},
   "outputs": [
    {
     "data": {
      "image/png": "[encoded data removed]",
      "text/plain": [
       "<Figure size 576x432 with 1 Axes>"
      ]
     },
     "metadata": {
      "needs_background": "light"
     },
     "output_type": "display_data"
    }
   ],
   "source": [
    "plt.figure(figsize=(8, 6))\n",
    "sns.barplot(x=\"size\", y=\"tip\", data=tip)\n",
    "plt.title(\"Tip Amount by Family Size\")\n",
    "plt.xlabel(\"Family Size\")\n",
    "plt.ylabel(\"Tip Amount\")\n",
    "plt.show()\n"
   ]
  },
  {
   "cell_type": "markdown",
   "id": "77f6baf3",
   "metadata": {},
   "source": [
    "maximum profit - smoker or non smoke"
   ]
  },
  {
   "cell_type": "code",
   "execution_count": 78,
   "id": "5cf00a11",
   "metadata": {},
   "outputs": [
    {
     "name": "stdout",
     "output_type": "stream",
     "text": [
      "Group with the maximum profit: Non-Smokers\n"
     ]
    }
   ],
   "source": [
    "total_bill_smokers = tip[tip['smoker'] == 'Yes']['total_bill'].sum()\n",
    "total_bill_non_smokers = tip[tip['smoker'] == 'No']['total_bill'].sum()\n",
    "max_profit_group = 'Smokers' if total_bill_smokers > total_bill_non_smokers else 'Non-Smokers'\n",
    "print(\"Group with the maximum profit:\", max_profit_group)\n"
   ]
  },
  {
   "cell_type": "code",
   "execution_count": null,
   "id": "339a0d95",
   "metadata": {},
   "outputs": [],
   "source": []
  }
 ],
 "metadata": {
  "kernelspec": {
   "display_name": "Python 3 (ipykernel)",
   "language": "python",
   "name": "python3"
  },
  "language_info": {
   "codemirror_mode": {
    "name": "ipython",
    "version": 3
   },
   "file_extension": ".py",
   "mimetype": "text/x-python",
   "name": "python",
   "nbconvert_exporter": "python",
   "pygments_lexer": "ipython3",
   "version": "3.9.12"
  }
 },
 "nbformat": 4,
 "nbformat_minor": 5
}
